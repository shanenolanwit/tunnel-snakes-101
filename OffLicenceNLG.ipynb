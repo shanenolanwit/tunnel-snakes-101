{
 "cells": [
  {
   "cell_type": "markdown",
   "metadata": {},
   "source": [
    "# Natural Language Generation\n",
    "Teaching a computer to describe a dataset. There is an IDE for this stuff somewhere, but IDEs are cheating. And I don't like learning how to use them. So we have a dataset for an off license, this csv has data on products, their price and how many sales they've made this week.\n",
    "As a simple first milestone, we want our program to tell us what the top selling product is\n",
    "- https://github.com/gramener/gramex-nlg/tree/dev#glossary-grammar-of-data-driven-narratives\n",
    "- https://github.com/explosion/spaCy/issues/4577  \n",
    "\n",
    "We'll then move onto some simple techniques like tokenizing and breaking sentences up into parts of speech to see if we can descibe a block of text without using templates"
   ]
  },
  {
   "cell_type": "code",
   "execution_count": 434,
   "metadata": {},
   "outputs": [],
   "source": [
    "from gramex.data import filter as gfilter\n",
    "from nlg.search import templatize\n",
    "from nlg.utils import load_spacy_model\n",
    "from nltk.corpus import wordnet\n",
    "from nltk.util import ngrams\n",
    "from nltk.tokenize import word_tokenize\n",
    "from nltk.corpus import stopwords\n",
    "import matplotlib.pyplot as plt\n",
    "from collections import Counter\n",
    "import pandas as pd\n",
    "import numpy as np\n",
    "import re"
   ]
  },
  {
   "cell_type": "code",
   "execution_count": 435,
   "metadata": {},
   "outputs": [
    {
     "data": {
      "text/html": [
       "<div>\n",
       "<style scoped>\n",
       "    .dataframe tbody tr th:only-of-type {\n",
       "        vertical-align: middle;\n",
       "    }\n",
       "\n",
       "    .dataframe tbody tr th {\n",
       "        vertical-align: top;\n",
       "    }\n",
       "\n",
       "    .dataframe thead th {\n",
       "        text-align: right;\n",
       "    }\n",
       "</style>\n",
       "<table border=\"1\" class=\"dataframe\">\n",
       "  <thead>\n",
       "    <tr style=\"text-align: right;\">\n",
       "      <th></th>\n",
       "      <th>category</th>\n",
       "      <th>name</th>\n",
       "      <th>price</th>\n",
       "      <th>sales</th>\n",
       "    </tr>\n",
       "  </thead>\n",
       "  <tbody>\n",
       "    <tr>\n",
       "      <td>0</td>\n",
       "      <td>alcohol</td>\n",
       "      <td>carlsberg</td>\n",
       "      <td>4.05</td>\n",
       "      <td>402</td>\n",
       "    </tr>\n",
       "    <tr>\n",
       "      <td>1</td>\n",
       "      <td>alcohol</td>\n",
       "      <td>heineken</td>\n",
       "      <td>3.95</td>\n",
       "      <td>100</td>\n",
       "    </tr>\n",
       "    <tr>\n",
       "      <td>2</td>\n",
       "      <td>snacks</td>\n",
       "      <td>tayto</td>\n",
       "      <td>1.20</td>\n",
       "      <td>300</td>\n",
       "    </tr>\n",
       "    <tr>\n",
       "      <td>3</td>\n",
       "      <td>alcohol</td>\n",
       "      <td>miller</td>\n",
       "      <td>3.80</td>\n",
       "      <td>40</td>\n",
       "    </tr>\n",
       "    <tr>\n",
       "      <td>4</td>\n",
       "      <td>alcohol</td>\n",
       "      <td>metalman</td>\n",
       "      <td>4.10</td>\n",
       "      <td>200</td>\n",
       "    </tr>\n",
       "    <tr>\n",
       "      <td>5</td>\n",
       "      <td>snacks</td>\n",
       "      <td>peanuts</td>\n",
       "      <td>1.10</td>\n",
       "      <td>110</td>\n",
       "    </tr>\n",
       "    <tr>\n",
       "      <td>6</td>\n",
       "      <td>alcohol</td>\n",
       "      <td>bulmers</td>\n",
       "      <td>4.90</td>\n",
       "      <td>330</td>\n",
       "    </tr>\n",
       "    <tr>\n",
       "      <td>7</td>\n",
       "      <td>alcohol</td>\n",
       "      <td>hoegarden</td>\n",
       "      <td>4.50</td>\n",
       "      <td>475</td>\n",
       "    </tr>\n",
       "    <tr>\n",
       "      <td>8</td>\n",
       "      <td>snacks</td>\n",
       "      <td>popcorn</td>\n",
       "      <td>2.00</td>\n",
       "      <td>80</td>\n",
       "    </tr>\n",
       "    <tr>\n",
       "      <td>9</td>\n",
       "      <td>snacks</td>\n",
       "      <td>chips</td>\n",
       "      <td>3.00</td>\n",
       "      <td>70</td>\n",
       "    </tr>\n",
       "    <tr>\n",
       "      <td>10</td>\n",
       "      <td>alcohol</td>\n",
       "      <td>guinness</td>\n",
       "      <td>4.00</td>\n",
       "      <td>200</td>\n",
       "    </tr>\n",
       "    <tr>\n",
       "      <td>11</td>\n",
       "      <td>snacks</td>\n",
       "      <td>chocolate</td>\n",
       "      <td>2.50</td>\n",
       "      <td>10</td>\n",
       "    </tr>\n",
       "  </tbody>\n",
       "</table>\n",
       "</div>"
      ],
      "text/plain": [
       "   category       name  price  sales\n",
       "0   alcohol  carlsberg   4.05    402\n",
       "1   alcohol   heineken   3.95    100\n",
       "2    snacks      tayto   1.20    300\n",
       "3   alcohol     miller   3.80     40\n",
       "4   alcohol   metalman   4.10    200\n",
       "5    snacks    peanuts   1.10    110\n",
       "6   alcohol    bulmers   4.90    330\n",
       "7   alcohol  hoegarden   4.50    475\n",
       "8    snacks    popcorn   2.00     80\n",
       "9    snacks      chips   3.00     70\n",
       "10  alcohol   guinness   4.00    200\n",
       "11   snacks  chocolate   2.50     10"
      ]
     },
     "execution_count": 435,
     "metadata": {},
     "output_type": "execute_result"
    }
   ],
   "source": [
    "# read in our csv and print the preview\n",
    "df = pd.read_csv('offlicense.csv')\n",
    "df"
   ]
  },
  {
   "cell_type": "markdown",
   "metadata": {},
   "source": [
    "The table shows us the list of producst, their category, price and sales. We'll apply the gramex filter and sort the dataframe by sales. The hypen before sales indicates descending order"
   ]
  },
  {
   "cell_type": "code",
   "execution_count": 436,
   "metadata": {},
   "outputs": [
    {
     "data": {
      "text/html": [
       "<div>\n",
       "<style scoped>\n",
       "    .dataframe tbody tr th:only-of-type {\n",
       "        vertical-align: middle;\n",
       "    }\n",
       "\n",
       "    .dataframe tbody tr th {\n",
       "        vertical-align: top;\n",
       "    }\n",
       "\n",
       "    .dataframe thead th {\n",
       "        text-align: right;\n",
       "    }\n",
       "</style>\n",
       "<table border=\"1\" class=\"dataframe\">\n",
       "  <thead>\n",
       "    <tr style=\"text-align: right;\">\n",
       "      <th></th>\n",
       "      <th>category</th>\n",
       "      <th>name</th>\n",
       "      <th>price</th>\n",
       "      <th>sales</th>\n",
       "    </tr>\n",
       "  </thead>\n",
       "  <tbody>\n",
       "    <tr>\n",
       "      <td>7</td>\n",
       "      <td>alcohol</td>\n",
       "      <td>hoegarden</td>\n",
       "      <td>4.50</td>\n",
       "      <td>475</td>\n",
       "    </tr>\n",
       "    <tr>\n",
       "      <td>0</td>\n",
       "      <td>alcohol</td>\n",
       "      <td>carlsberg</td>\n",
       "      <td>4.05</td>\n",
       "      <td>402</td>\n",
       "    </tr>\n",
       "    <tr>\n",
       "      <td>6</td>\n",
       "      <td>alcohol</td>\n",
       "      <td>bulmers</td>\n",
       "      <td>4.90</td>\n",
       "      <td>330</td>\n",
       "    </tr>\n",
       "    <tr>\n",
       "      <td>2</td>\n",
       "      <td>snacks</td>\n",
       "      <td>tayto</td>\n",
       "      <td>1.20</td>\n",
       "      <td>300</td>\n",
       "    </tr>\n",
       "    <tr>\n",
       "      <td>4</td>\n",
       "      <td>alcohol</td>\n",
       "      <td>metalman</td>\n",
       "      <td>4.10</td>\n",
       "      <td>200</td>\n",
       "    </tr>\n",
       "  </tbody>\n",
       "</table>\n",
       "</div>"
      ],
      "text/plain": [
       "  category       name  price  sales\n",
       "7  alcohol  hoegarden   4.50    475\n",
       "0  alcohol  carlsberg   4.05    402\n",
       "6  alcohol    bulmers   4.90    330\n",
       "2   snacks      tayto   1.20    300\n",
       "4  alcohol   metalman   4.10    200"
      ]
     },
     "execution_count": 436,
     "metadata": {},
     "output_type": "execute_result"
    }
   ],
   "source": [
    "sort_args = {'_sort': ['-sales']}\n",
    "xdf = gfilter(df, sort_args.copy())\n",
    "xdf.head()"
   ]
  },
  {
   "cell_type": "code",
   "execution_count": 437,
   "metadata": {},
   "outputs": [
    {
     "data": {
      "text/html": [
       "<div>\n",
       "<style scoped>\n",
       "    .dataframe tbody tr th:only-of-type {\n",
       "        vertical-align: middle;\n",
       "    }\n",
       "\n",
       "    .dataframe tbody tr th {\n",
       "        vertical-align: top;\n",
       "    }\n",
       "\n",
       "    .dataframe thead th {\n",
       "        text-align: right;\n",
       "    }\n",
       "</style>\n",
       "<table border=\"1\" class=\"dataframe\">\n",
       "  <thead>\n",
       "    <tr style=\"text-align: right;\">\n",
       "      <th></th>\n",
       "      <th>price</th>\n",
       "      <th>sales</th>\n",
       "    </tr>\n",
       "  </thead>\n",
       "  <tbody>\n",
       "    <tr>\n",
       "      <td>count</td>\n",
       "      <td>12.000000</td>\n",
       "      <td>12.000000</td>\n",
       "    </tr>\n",
       "    <tr>\n",
       "      <td>mean</td>\n",
       "      <td>3.258333</td>\n",
       "      <td>193.083333</td>\n",
       "    </tr>\n",
       "    <tr>\n",
       "      <td>std</td>\n",
       "      <td>1.279708</td>\n",
       "      <td>151.913527</td>\n",
       "    </tr>\n",
       "    <tr>\n",
       "      <td>min</td>\n",
       "      <td>1.100000</td>\n",
       "      <td>10.000000</td>\n",
       "    </tr>\n",
       "    <tr>\n",
       "      <td>25%</td>\n",
       "      <td>2.375000</td>\n",
       "      <td>77.500000</td>\n",
       "    </tr>\n",
       "    <tr>\n",
       "      <td>50%</td>\n",
       "      <td>3.875000</td>\n",
       "      <td>155.000000</td>\n",
       "    </tr>\n",
       "    <tr>\n",
       "      <td>75%</td>\n",
       "      <td>4.062500</td>\n",
       "      <td>307.500000</td>\n",
       "    </tr>\n",
       "    <tr>\n",
       "      <td>max</td>\n",
       "      <td>4.900000</td>\n",
       "      <td>475.000000</td>\n",
       "    </tr>\n",
       "  </tbody>\n",
       "</table>\n",
       "</div>"
      ],
      "text/plain": [
       "           price       sales\n",
       "count  12.000000   12.000000\n",
       "mean    3.258333  193.083333\n",
       "std     1.279708  151.913527\n",
       "min     1.100000   10.000000\n",
       "25%     2.375000   77.500000\n",
       "50%     3.875000  155.000000\n",
       "75%     4.062500  307.500000\n",
       "max     4.900000  475.000000"
      ]
     },
     "execution_count": 437,
     "metadata": {},
     "output_type": "execute_result"
    }
   ],
   "source": [
    "xdf.describe()"
   ]
  },
  {
   "cell_type": "code",
   "execution_count": 438,
   "metadata": {},
   "outputs": [
    {
     "name": "stdout",
     "output_type": "stream",
     "text": [
      "Best seller is is hoegarden\n"
     ]
    },
    {
     "data": {
      "image/png": "[encoded data removed]",
      "text/plain": [
       "<Figure size 432x288 with 1 Axes>"
      ]
     },
     "metadata": {
      "needs_background": "light"
     },
     "output_type": "display_data"
    }
   ],
   "source": [
    "print(\"Best seller is is {}\".format(xdf.iloc[0][\"name\"]))\n",
    "fig, ax = plt.subplots()\n",
    "xdf.sort_values(by=\"sales\",ascending=False)['sales'].plot.bar();\n",
    "ax.set_xticklabels(xdf.sort_values(by=\"sales\",ascending=False)['name'])\n",
    "plt.title(\"This weeks sales\")\n",
    "plt.ylabel(\"Sales\")\n",
    "plt.xlabel(\"Product\")\n",
    "plt.show()"
   ]
  },
  {
   "cell_type": "markdown",
   "metadata": {},
   "source": [
    "## lets show this program how its done\n",
    "we'll describe the data manually and see if the big python in the sky catches on with what we're trying to do"
   ]
  },
  {
   "cell_type": "code",
   "execution_count": 439,
   "metadata": {},
   "outputs": [],
   "source": [
    "nlp = load_spacy_model()\n",
    "text = nlp(\"hoegarden has the highest alcohol sales\")"
   ]
  },
  {
   "cell_type": "code",
   "execution_count": 441,
   "metadata": {},
   "outputs": [
    {
     "data": {
      "text/plain": [
       "{% set fh_args = {\"_sort\": [\"-sales\"]}  %}\n",
       "{% set df = U.gfilter(orgdf, fh_args.copy()) %}\n",
       "{% set fh_args = U.sanitize_fh_args(fh_args, orgdf) %}\n",
       "{# Do not edit above this line. #}\n",
       "hoegarden has the highest {{ df[\"category\"].iloc[-2] }} {{ fh_args['_sort'][0] }}"
      ]
     },
     "execution_count": 441,
     "metadata": {},
     "output_type": "execute_result"
    }
   ],
   "source": [
    "nugget = templatize(text, sort_args, df)\n",
    "nugget"
   ]
  },
  {
   "cell_type": "code",
   "execution_count": 442,
   "metadata": {},
   "outputs": [
    {
     "data": {
      "text/plain": [
       "{sales: {{ fh_args['_sort'][0] }}, alcohol: {{ df[\"category\"].iloc[-2] }}}"
      ]
     },
     "execution_count": 442,
     "metadata": {},
     "output_type": "execute_result"
    }
   ],
   "source": [
    "nugget.variables"
   ]
  },
  {
   "cell_type": "markdown",
   "metadata": {},
   "source": [
    "Something isn't quite right here. We can see that its picked up on the sort filter but not on the name of the best selling product. It's also interpreted the word *alcohol* incorrectly, its created an alcohol variable and found the word alcohol and marked its exact location instead of just the column. We update the alcohol variable first"
   ]
  },
  {
   "cell_type": "code",
   "execution_count": 443,
   "metadata": {},
   "outputs": [],
   "source": [
    "var = nugget.get_var('alcohol')\n",
    "var.set_expr('df[\"category\"].iloc[0]')"
   ]
  },
  {
   "cell_type": "markdown",
   "metadata": {},
   "source": [
    "Next we add the name variable, we mark the token as the first word in our sentence, give it a name and added it to our template."
   ]
  },
  {
   "cell_type": "code",
   "execution_count": 444,
   "metadata": {},
   "outputs": [
    {
     "data": {
      "text/plain": [
       "{% set fh_args = {\"_sort\": [\"-sales\"]}  %}\n",
       "{% set df = U.gfilter(orgdf, fh_args.copy()) %}\n",
       "{% set fh_args = U.sanitize_fh_args(fh_args, orgdf) %}\n",
       "{# Do not edit above this line. #}\n",
       "{{ df[\"name\"].iloc[0] }} has the highest {{ df[\"category\"].iloc[0] }} {{ fh_args['_sort'][0] }}"
      ]
     },
     "execution_count": 444,
     "metadata": {},
     "output_type": "execute_result"
    }
   ],
   "source": [
    "var_token = text[0]\n",
    "var_expr = 'df[\"name\"].iloc[0]'\n",
    "\n",
    "nugget.add_var(var_token, expr=var_expr)\n",
    "nugget"
   ]
  },
  {
   "cell_type": "markdown",
   "metadata": {},
   "source": [
    "## Now we're on the trolley! \n",
    "Excellent, lets use our template to render a summary of the dataframe"
   ]
  },
  {
   "cell_type": "code",
   "execution_count": 445,
   "metadata": {},
   "outputs": [
    {
     "name": "stdout",
     "output_type": "stream",
     "text": [
      "b'    hoegarden has the highest alcohol sales'\n"
     ]
    }
   ],
   "source": [
    "print(nugget.render(df))"
   ]
  },
  {
   "cell_type": "markdown",
   "metadata": {},
   "source": [
    "Nice ! It printed out exactly what we typed in . . . .  \n",
    "So to check that something is actually working here, we will fill our dataframe with random data and we'll try to apply our template to this one"
   ]
  },
  {
   "cell_type": "code",
   "execution_count": 446,
   "metadata": {},
   "outputs": [
    {
     "data": {
      "text/html": [
       "<div>\n",
       "<style scoped>\n",
       "    .dataframe tbody tr th:only-of-type {\n",
       "        vertical-align: middle;\n",
       "    }\n",
       "\n",
       "    .dataframe tbody tr th {\n",
       "        vertical-align: top;\n",
       "    }\n",
       "\n",
       "    .dataframe thead th {\n",
       "        text-align: right;\n",
       "    }\n",
       "</style>\n",
       "<table border=\"1\" class=\"dataframe\">\n",
       "  <thead>\n",
       "    <tr style=\"text-align: right;\">\n",
       "      <th></th>\n",
       "      <th>category</th>\n",
       "      <th>name</th>\n",
       "      <th>price</th>\n",
       "      <th>sales</th>\n",
       "    </tr>\n",
       "  </thead>\n",
       "  <tbody>\n",
       "    <tr>\n",
       "      <td>9</td>\n",
       "      <td>snacks</td>\n",
       "      <td>chips</td>\n",
       "      <td>3.00</td>\n",
       "      <td>1565</td>\n",
       "    </tr>\n",
       "    <tr>\n",
       "      <td>1</td>\n",
       "      <td>alcohol</td>\n",
       "      <td>heineken</td>\n",
       "      <td>3.95</td>\n",
       "      <td>1509</td>\n",
       "    </tr>\n",
       "    <tr>\n",
       "      <td>5</td>\n",
       "      <td>snacks</td>\n",
       "      <td>peanuts</td>\n",
       "      <td>1.10</td>\n",
       "      <td>1449</td>\n",
       "    </tr>\n",
       "    <tr>\n",
       "      <td>4</td>\n",
       "      <td>alcohol</td>\n",
       "      <td>metalman</td>\n",
       "      <td>4.10</td>\n",
       "      <td>1444</td>\n",
       "    </tr>\n",
       "    <tr>\n",
       "      <td>7</td>\n",
       "      <td>alcohol</td>\n",
       "      <td>hoegarden</td>\n",
       "      <td>4.50</td>\n",
       "      <td>1381</td>\n",
       "    </tr>\n",
       "    <tr>\n",
       "      <td>2</td>\n",
       "      <td>snacks</td>\n",
       "      <td>tayto</td>\n",
       "      <td>1.20</td>\n",
       "      <td>1309</td>\n",
       "    </tr>\n",
       "    <tr>\n",
       "      <td>11</td>\n",
       "      <td>snacks</td>\n",
       "      <td>chocolate</td>\n",
       "      <td>2.50</td>\n",
       "      <td>1142</td>\n",
       "    </tr>\n",
       "    <tr>\n",
       "      <td>10</td>\n",
       "      <td>alcohol</td>\n",
       "      <td>guinness</td>\n",
       "      <td>4.00</td>\n",
       "      <td>769</td>\n",
       "    </tr>\n",
       "    <tr>\n",
       "      <td>8</td>\n",
       "      <td>snacks</td>\n",
       "      <td>popcorn</td>\n",
       "      <td>2.00</td>\n",
       "      <td>546</td>\n",
       "    </tr>\n",
       "    <tr>\n",
       "      <td>0</td>\n",
       "      <td>alcohol</td>\n",
       "      <td>carlsberg</td>\n",
       "      <td>4.05</td>\n",
       "      <td>482</td>\n",
       "    </tr>\n",
       "    <tr>\n",
       "      <td>6</td>\n",
       "      <td>alcohol</td>\n",
       "      <td>bulmers</td>\n",
       "      <td>4.90</td>\n",
       "      <td>382</td>\n",
       "    </tr>\n",
       "    <tr>\n",
       "      <td>3</td>\n",
       "      <td>alcohol</td>\n",
       "      <td>miller</td>\n",
       "      <td>3.80</td>\n",
       "      <td>129</td>\n",
       "    </tr>\n",
       "  </tbody>\n",
       "</table>\n",
       "</div>"
      ],
      "text/plain": [
       "   category       name  price  sales\n",
       "9    snacks      chips   3.00   1565\n",
       "1   alcohol   heineken   3.95   1509\n",
       "5    snacks    peanuts   1.10   1449\n",
       "4   alcohol   metalman   4.10   1444\n",
       "7   alcohol  hoegarden   4.50   1381\n",
       "2    snacks      tayto   1.20   1309\n",
       "11   snacks  chocolate   2.50   1142\n",
       "10  alcohol   guinness   4.00    769\n",
       "8    snacks    popcorn   2.00    546\n",
       "0   alcohol  carlsberg   4.05    482\n",
       "6   alcohol    bulmers   4.90    382\n",
       "3   alcohol     miller   3.80    129"
      ]
     },
     "execution_count": 446,
     "metadata": {},
     "output_type": "execute_result"
    }
   ],
   "source": [
    "np.random.seed(12345) # classic seed \n",
    "fake_sales = df.copy()\n",
    "fake_sales['sales'] = np.random.randint(2000,size=df.shape[0])\n",
    "fake_sales.sort_values('sales', ascending=False)"
   ]
  },
  {
   "cell_type": "markdown",
   "metadata": {},
   "source": [
    "## APPLY THE TEMPLATE !"
   ]
  },
  {
   "cell_type": "code",
   "execution_count": 447,
   "metadata": {},
   "outputs": [
    {
     "data": {
      "text/plain": [
       "b'    chips has the highest snacks sales'"
      ]
     },
     "execution_count": 447,
     "metadata": {},
     "output_type": "execute_result"
    }
   ],
   "source": [
    "nugget.render(fake_sales)"
   ]
  },
  {
   "cell_type": "markdown",
   "metadata": {},
   "source": [
    "Nice ! We'll change our template a little to use price instead of sales and see if we can still accurately describe the dataset"
   ]
  },
  {
   "cell_type": "code",
   "execution_count": 448,
   "metadata": {},
   "outputs": [
    {
     "data": {
      "text/plain": [
       "b'    bulmers has the highest alcohol price'"
      ]
     },
     "execution_count": 448,
     "metadata": {},
     "output_type": "execute_result"
    }
   ],
   "source": [
    "nugget.fh_args = {'_sort': ['-price']}\n",
    "nugget.render(df)"
   ]
  },
  {
   "cell_type": "markdown",
   "metadata": {},
   "source": [
    "It successfully reports that bulmers has the highest price in our dataset. Nice !"
   ]
  },
  {
   "cell_type": "markdown",
   "metadata": {},
   "source": [
    "# Less templatey approach\n",
    "Next up, we'll see if we take a block of text and only pull the *most* useful information from it. In this case we'll say it's an excerpt from the official financial times blog. Everyone wants to know whats in it, but nobody wants to actually read it. As a savvy investor with no time to waste, I just want the computer to read the article and tell me what to do. Buy, Sell, Short, Long, Bull, Bear, and all that other stuff I learned in investment school.\n",
    "- we'll use [wordnet](https://www.nltk.org/howto/wordnet.html) to build a list of words associated with good and bad signs\n",
    "- then we'll read the article, removing stop words. For an intro to stop words, here's a [website you may have heard of](https://en.wikipedia.org/wiki/Stop_words) that explains what they are\n",
    "- next’s  up we'll break the text up into n-grams (sequences of words)\n",
    "- we'll filter our ngrams by ones that have good words and bad words, and remove sequences that have neither\n",
    "- we'll score our ngrams based on their sentiment and descriptiveness using some scoring system i made up just now \n",
    " - the higher the noun count, the higher the descriptive score\n",
    " - the higher the count of good/bad words, the higher the sentiment score \n",
    "- We'll convert our ngram sets to dataframes, sort them by their scores and print information on the top scores"
   ]
  },
  {
   "cell_type": "code",
   "execution_count": 449,
   "metadata": {},
   "outputs": [
    {
     "name": "stdout",
     "output_type": "stream",
     "text": [
      "{'safe', 'commodity', 'good', 'electropositive', 'confident', 'confirming', 'trade good', 'expert', 'salutary', 'honest', 'respectable', 'convinced', 'honorable', 'in force', 'secure', 'effective', 'ripe', 'sound', 'upright', 'dependable', 'goodness', 'skillful', 'in effect', 'plus', 'prescribed', 'just', 'unspoilt', 'positivistic', 'positively charged', 'skilful', 'adept', 'well', 'positive', 'practiced', 'overconfident', 'proficient', 'beneficial', 'undecomposed', 'right', 'incontrovertible', 'unspoiled', 'near', 'thoroughly', 'irrefutable', 'full', 'positivist', 'estimable', 'positive degree', 'dear', 'soundly', 'serious', 'cocksure'}\n",
      "{'blackball', 'spoiled', 'tough', 'uncollectible', 'negative', 'sorry', 'veto', 'electronegative', 'big', 'risky', 'negatively charged', 'minus', 'badly', 'regretful', 'defective', 'forged', 'unsound', 'disconfirming', 'speculative', 'unfit', 'high-risk', 'spoilt', 'damaging', 'bad', 'badness'}\n"
     ]
    }
   ],
   "source": [
    "good_synonyms = set()\n",
    "bad_synonyms = set()\n",
    "\n",
    "for syn in wordnet.synsets(\"good\"):\n",
    "    good_synonyms.update(list(map(lambda x: x.name().lower().replace('_',' '), syn.lemmas())))\n",
    "for syn in wordnet.synsets(\"positive\"):\n",
    "    good_synonyms.update(list(map(lambda x: x.name().lower().replace('_',' '), syn.lemmas())))\n",
    "print(good_synonyms)\n",
    "\n",
    "for syn in wordnet.synsets(\"bad\"):\n",
    "    bad_synonyms.update(list(map(lambda x: x.name().lower().replace('_',' '), syn.lemmas())))\n",
    "for syn in wordnet.synsets(\"negative\"):\n",
    "    bad_synonyms.update(list(map(lambda x: x.name().lower().replace('_',' '), syn.lemmas())))\n",
    "print(bad_synonyms)"
   ]
  },
  {
   "cell_type": "code",
   "execution_count": 450,
   "metadata": {},
   "outputs": [],
   "source": [
    "\n",
    "locale = 'english'\n",
    "stop_words = stopwords.words(locale)\n",
    "\n",
    "sentence = \"\"\"greetings to first time readers this blog aims to inform you of \n",
    "useful stuff. In todays financial news experts are predicting chicken goujons are a safe and secure bet.\n",
    "i am particularly speculative of investments in antique typewriters \n",
    "and i believe calculators are still risky in the long term.\n",
    "However with regard to precious metals, the returns are at all time high, our resident expert predicts gold prices will soar\"\"\"\n",
    "sentence = sentence.lower()\n",
    "tokens = [token for token in word_tokenize(sentence) if token not in stop_words]\n",
    "\n",
    "\n",
    "all_news = list(ngrams(tokens, 5))"
   ]
  },
  {
   "cell_type": "markdown",
   "metadata": {},
   "source": [
    "### function filters down the news using a list of synonyms  \n",
    "Uses [parts of speech](https://medium.com/@gianpaul.r/tokenization-and-parts-of-speech-pos-tagging-in-pythons-nltk-library-2d30f70af13b) to find the descriptive words in each news snippet. Generates a descriptive score based on how many words can describe the news state, and generates a sentiment score based on how many words in the provided synonym list appear in the snipped"
   ]
  },
  {
   "cell_type": "code",
   "execution_count": 483,
   "metadata": {},
   "outputs": [],
   "source": [
    "def generate_news_data_frame(synonyms):\n",
    "    filtered_news = [\n",
    "        headline for headline in all_news if \n",
    "        any(substring in headline for substring in synonyms)\n",
    "        and \".\" not in headline]\n",
    "    scores = []\n",
    "    nouns = []\n",
    "    adjectives = []\n",
    "    for news in filtered_news:\n",
    "        local_count = 0\n",
    "        local_nouns = []\n",
    "        local_adjectives = []\n",
    "        toks = word_tokenize(\" \".join(list(news)))\n",
    "        # https://medium.com/@gianpaul.r/tokenization-and-parts-of-speech-pos-tagging-in-pythons-nltk-library-2d30f70af13b\n",
    "        pos = nltk.pos_tag(toks)\n",
    "        local_nouns = [w[0] for w in pos if w[1] in ['NN','NNS']]\n",
    "        local_verbs = [w[0] for w in pos if w[1] in ['VB','VBD','VBG','VBN','VBP','VBZ']]\n",
    "        for word in news:\n",
    "            if word in synonyms:\n",
    "                local_verbs.append(word)\n",
    "                local_count += 1\n",
    "        scores.append(local_count)\n",
    "        nouns.append(set(local_nouns))\n",
    "        adjectives.append(set(local_verbs))\n",
    "    filtered_df = pd.DataFrame.from_records(filtered_news)\n",
    "    filtered_df[\"adjectives\"] = adjectives\n",
    "    filtered_df[\"nouns\"] = nouns\n",
    "    filtered_df[\"descriptive_score\"] = filtered_df.apply(lambda row: len(row[\"nouns\"]), axis=1)\n",
    "    filtered_df[\"sentiment_score\"] = scores\n",
    "    filtered_df = filtered_df.sort_values(by=['sentiment_score', 'descriptive_score'], ascending=False)\n",
    "    return filtered_df\n",
    "\n"
   ]
  },
  {
   "cell_type": "code",
   "execution_count": 484,
   "metadata": {},
   "outputs": [
    {
     "data": {
      "text/html": [
       "<div>\n",
       "<style scoped>\n",
       "    .dataframe tbody tr th:only-of-type {\n",
       "        vertical-align: middle;\n",
       "    }\n",
       "\n",
       "    .dataframe tbody tr th {\n",
       "        vertical-align: top;\n",
       "    }\n",
       "\n",
       "    .dataframe thead th {\n",
       "        text-align: right;\n",
       "    }\n",
       "</style>\n",
       "<table border=\"1\" class=\"dataframe\">\n",
       "  <thead>\n",
       "    <tr style=\"text-align: right;\">\n",
       "      <th></th>\n",
       "      <th>0</th>\n",
       "      <th>1</th>\n",
       "      <th>2</th>\n",
       "      <th>3</th>\n",
       "      <th>4</th>\n",
       "      <th>adjectives</th>\n",
       "      <th>nouns</th>\n",
       "      <th>descriptive_score</th>\n",
       "      <th>sentiment_score</th>\n",
       "    </tr>\n",
       "  </thead>\n",
       "  <tbody>\n",
       "    <tr>\n",
       "      <td>2</td>\n",
       "      <td>chicken</td>\n",
       "      <td>goujons</td>\n",
       "      <td>safe</td>\n",
       "      <td>secure</td>\n",
       "      <td>bet</td>\n",
       "      <td>{safe, secure}</td>\n",
       "      <td>{bet, goujons, chicken, secure}</td>\n",
       "      <td>4</td>\n",
       "      <td>2</td>\n",
       "    </tr>\n",
       "    <tr>\n",
       "      <td>1</td>\n",
       "      <td>predicting</td>\n",
       "      <td>chicken</td>\n",
       "      <td>goujons</td>\n",
       "      <td>safe</td>\n",
       "      <td>secure</td>\n",
       "      <td>{safe, secure, predicting}</td>\n",
       "      <td>{secure, goujons}</td>\n",
       "      <td>2</td>\n",
       "      <td>2</td>\n",
       "    </tr>\n",
       "    <tr>\n",
       "      <td>6</td>\n",
       "      <td>resident</td>\n",
       "      <td>expert</td>\n",
       "      <td>predicts</td>\n",
       "      <td>gold</td>\n",
       "      <td>prices</td>\n",
       "      <td>{predicts, expert}</td>\n",
       "      <td>{resident, expert, prices, gold}</td>\n",
       "      <td>4</td>\n",
       "      <td>1</td>\n",
       "    </tr>\n",
       "    <tr>\n",
       "      <td>5</td>\n",
       "      <td>,</td>\n",
       "      <td>resident</td>\n",
       "      <td>expert</td>\n",
       "      <td>predicts</td>\n",
       "      <td>gold</td>\n",
       "      <td>{predicts, expert}</td>\n",
       "      <td>{resident, expert, gold}</td>\n",
       "      <td>3</td>\n",
       "      <td>1</td>\n",
       "    </tr>\n",
       "    <tr>\n",
       "      <td>0</td>\n",
       "      <td>experts</td>\n",
       "      <td>predicting</td>\n",
       "      <td>chicken</td>\n",
       "      <td>goujons</td>\n",
       "      <td>safe</td>\n",
       "      <td>{safe, predicting}</td>\n",
       "      <td>{goujons, experts}</td>\n",
       "      <td>2</td>\n",
       "      <td>1</td>\n",
       "    </tr>\n",
       "    <tr>\n",
       "      <td>3</td>\n",
       "      <td>time</td>\n",
       "      <td>high</td>\n",
       "      <td>,</td>\n",
       "      <td>resident</td>\n",
       "      <td>expert</td>\n",
       "      <td>{expert}</td>\n",
       "      <td>{expert, time}</td>\n",
       "      <td>2</td>\n",
       "      <td>1</td>\n",
       "    </tr>\n",
       "    <tr>\n",
       "      <td>4</td>\n",
       "      <td>high</td>\n",
       "      <td>,</td>\n",
       "      <td>resident</td>\n",
       "      <td>expert</td>\n",
       "      <td>predicts</td>\n",
       "      <td>{expert}</td>\n",
       "      <td>{predicts, expert}</td>\n",
       "      <td>2</td>\n",
       "      <td>1</td>\n",
       "    </tr>\n",
       "    <tr>\n",
       "      <td>7</td>\n",
       "      <td>expert</td>\n",
       "      <td>predicts</td>\n",
       "      <td>gold</td>\n",
       "      <td>prices</td>\n",
       "      <td>soar</td>\n",
       "      <td>{predicts, expert, soar}</td>\n",
       "      <td>{expert, prices}</td>\n",
       "      <td>2</td>\n",
       "      <td>1</td>\n",
       "    </tr>\n",
       "  </tbody>\n",
       "</table>\n",
       "</div>"
      ],
      "text/plain": [
       "            0           1         2         3         4  \\\n",
       "2     chicken     goujons      safe    secure       bet   \n",
       "1  predicting     chicken   goujons      safe    secure   \n",
       "6    resident      expert  predicts      gold    prices   \n",
       "5           ,    resident    expert  predicts      gold   \n",
       "0     experts  predicting   chicken   goujons      safe   \n",
       "3        time        high         ,  resident    expert   \n",
       "4        high           ,  resident    expert  predicts   \n",
       "7      expert    predicts      gold    prices      soar   \n",
       "\n",
       "                   adjectives                             nouns  \\\n",
       "2              {safe, secure}   {bet, goujons, chicken, secure}   \n",
       "1  {safe, secure, predicting}                 {secure, goujons}   \n",
       "6          {predicts, expert}  {resident, expert, prices, gold}   \n",
       "5          {predicts, expert}          {resident, expert, gold}   \n",
       "0          {safe, predicting}                {goujons, experts}   \n",
       "3                    {expert}                    {expert, time}   \n",
       "4                    {expert}                {predicts, expert}   \n",
       "7    {predicts, expert, soar}                  {expert, prices}   \n",
       "\n",
       "   descriptive_score  sentiment_score  \n",
       "2                  4                2  \n",
       "1                  2                2  \n",
       "6                  4                1  \n",
       "5                  3                1  \n",
       "0                  2                1  \n",
       "3                  2                1  \n",
       "4                  2                1  \n",
       "7                  2                1  "
      ]
     },
     "execution_count": 484,
     "metadata": {},
     "output_type": "execute_result"
    }
   ],
   "source": [
    "# generate a dataframe, using our good synonyms to filter out good news\n",
    "good_df = generate_news_data_frame(good_synonyms)\n",
    "good_df"
   ]
  },
  {
   "cell_type": "code",
   "execution_count": 486,
   "metadata": {},
   "outputs": [
    {
     "data": {
      "text/html": [
       "<div>\n",
       "<style scoped>\n",
       "    .dataframe tbody tr th:only-of-type {\n",
       "        vertical-align: middle;\n",
       "    }\n",
       "\n",
       "    .dataframe tbody tr th {\n",
       "        vertical-align: top;\n",
       "    }\n",
       "\n",
       "    .dataframe thead th {\n",
       "        text-align: right;\n",
       "    }\n",
       "</style>\n",
       "<table border=\"1\" class=\"dataframe\">\n",
       "  <thead>\n",
       "    <tr style=\"text-align: right;\">\n",
       "      <th></th>\n",
       "      <th>0</th>\n",
       "      <th>1</th>\n",
       "      <th>2</th>\n",
       "      <th>3</th>\n",
       "      <th>4</th>\n",
       "      <th>adjectives</th>\n",
       "      <th>nouns</th>\n",
       "      <th>descriptive_score</th>\n",
       "      <th>sentiment_score</th>\n",
       "    </tr>\n",
       "  </thead>\n",
       "  <tbody>\n",
       "    <tr>\n",
       "      <td>0</td>\n",
       "      <td>particularly</td>\n",
       "      <td>speculative</td>\n",
       "      <td>investments</td>\n",
       "      <td>antique</td>\n",
       "      <td>typewriters</td>\n",
       "      <td>{speculative}</td>\n",
       "      <td>{investments, typewriters}</td>\n",
       "      <td>2</td>\n",
       "      <td>1</td>\n",
       "    </tr>\n",
       "    <tr>\n",
       "      <td>1</td>\n",
       "      <td>speculative</td>\n",
       "      <td>investments</td>\n",
       "      <td>antique</td>\n",
       "      <td>typewriters</td>\n",
       "      <td>believe</td>\n",
       "      <td>{believe, speculative}</td>\n",
       "      <td>{investments, typewriters}</td>\n",
       "      <td>2</td>\n",
       "      <td>1</td>\n",
       "    </tr>\n",
       "    <tr>\n",
       "      <td>2</td>\n",
       "      <td>typewriters</td>\n",
       "      <td>believe</td>\n",
       "      <td>calculators</td>\n",
       "      <td>still</td>\n",
       "      <td>risky</td>\n",
       "      <td>{believe, risky}</td>\n",
       "      <td>{calculators, typewriters}</td>\n",
       "      <td>2</td>\n",
       "      <td>1</td>\n",
       "    </tr>\n",
       "    <tr>\n",
       "      <td>3</td>\n",
       "      <td>believe</td>\n",
       "      <td>calculators</td>\n",
       "      <td>still</td>\n",
       "      <td>risky</td>\n",
       "      <td>long</td>\n",
       "      <td>{risky}</td>\n",
       "      <td>{believe, calculators}</td>\n",
       "      <td>2</td>\n",
       "      <td>1</td>\n",
       "    </tr>\n",
       "    <tr>\n",
       "      <td>4</td>\n",
       "      <td>calculators</td>\n",
       "      <td>still</td>\n",
       "      <td>risky</td>\n",
       "      <td>long</td>\n",
       "      <td>term</td>\n",
       "      <td>{risky}</td>\n",
       "      <td>{calculators, term}</td>\n",
       "      <td>2</td>\n",
       "      <td>1</td>\n",
       "    </tr>\n",
       "  </tbody>\n",
       "</table>\n",
       "</div>"
      ],
      "text/plain": [
       "              0            1            2            3            4  \\\n",
       "0  particularly  speculative  investments      antique  typewriters   \n",
       "1   speculative  investments      antique  typewriters      believe   \n",
       "2   typewriters      believe  calculators        still        risky   \n",
       "3       believe  calculators        still        risky         long   \n",
       "4   calculators        still        risky         long         term   \n",
       "\n",
       "               adjectives                       nouns  descriptive_score  \\\n",
       "0           {speculative}  {investments, typewriters}                  2   \n",
       "1  {believe, speculative}  {investments, typewriters}                  2   \n",
       "2        {believe, risky}  {calculators, typewriters}                  2   \n",
       "3                 {risky}      {believe, calculators}                  2   \n",
       "4                 {risky}         {calculators, term}                  2   \n",
       "\n",
       "   sentiment_score  \n",
       "0                1  \n",
       "1                1  \n",
       "2                1  \n",
       "3                1  \n",
       "4                1  "
      ]
     },
     "execution_count": 486,
     "metadata": {},
     "output_type": "execute_result"
    }
   ],
   "source": [
    "# generate a dataframe, using our bad synonyms to filter out bad news\n",
    "bad_df = generate_news_data_frame(bad_synonyms)\n",
    "bad_df"
   ]
  },
  {
   "cell_type": "markdown",
   "metadata": {},
   "source": [
    "## preliminary analysis\n",
    "So looking at the rows of our good and bad datasets   \n",
    "#### We get useful good snippets like \n",
    "- chicken goujons safe secure bet - {safe, secure} {chicken, goujons}\n",
    "- experts predicting chicken goujons safe - {safe, secure} {goujons}\n",
    "- expert predicts gold prices soar - {predicts, experts, soar} {prices}\n",
    "\n",
    "#### We also get useful bad snippets like  \n",
    "- particular speculative investments antique typewriters - {speculative} {investments, typewriters}\n",
    "- calculators still risky long term - {risky} {calculators}  \n",
    "\n",
    "#### On the other hand, some fairly useful data has crept in\n",
    "- high resident expert predicts   \n",
    "\n",
    "Overall though, by scanning the nouns column, we can get a good feel for what the ngram is about, looking across the row gives more context and allows us quickly to make decisions like  \n",
    "- buy chicken goujons\n",
    "- buy gold\n",
    "- do not buy typewriters, sell any existing shares/stock\n",
    "- do not buy calculators, sell any existing shares/stock  \n",
    "\n",
    "## Thats still a lot of work, how about a picture ?"
   ]
  },
  {
   "cell_type": "code",
   "execution_count": 487,
   "metadata": {},
   "outputs": [
    {
     "data": {
      "image/png": "[encoded data removed]",
      "text/plain": [
       "<Figure size 432x288 with 2 Axes>"
      ]
     },
     "metadata": {
      "needs_background": "light"
     },
     "output_type": "display_data"
    }
   ],
   "source": [
    "def generate_sneak_peak_df(news):\n",
    "    sneak_preview_data = \" \".join([item for sublist in news for item in sublist])\n",
    "    clean_vocab = re.sub(\"(\\\\W|\\\\d)\",\" \",sneak_preview_data).strip().split(\" \")\n",
    "    clean_vocab = list(filter(None, clean_vocab))\n",
    "    counter = Counter(clean_vocab)\n",
    "    top_words = counter.most_common(10)\n",
    "\n",
    "    word_count = []\n",
    "    for top_word in top_words:\n",
    "        word_count.append({\"word\": top_word[0], \"count\": top_word[1]}) \n",
    "    return pd.DataFrame(word_count,columns=['word','count'])\n",
    "\n",
    "   \n",
    "good_word_count_df= generate_sneak_peak_df(good_news)\n",
    "bad_word_count_df=generate_sneak_peak_df(bad_news)\n",
    "\n",
    "fig = plt.figure()\n",
    "ax1 = fig.add_subplot(1, 2, 1)\n",
    "\n",
    "good_word_count_df[\"count\"].plot.bar();\n",
    "ax1.set_xticklabels(good_word_count_df[\"word\"])\n",
    "plt.title(\"Good Stuff Graph\")\n",
    "\n",
    "ax2 = fig.add_subplot(1, 2, 2)\n",
    "bad_word_count_df[\"count\"].plot.bar();\n",
    "ax2.set_xticklabels(bad_word_count_df[\"word\"])\n",
    "plt.title(\"Bad Stuff Graph\")\n",
    "plt.show()"
   ]
  },
  {
   "cell_type": "markdown",
   "metadata": {},
   "source": [
    "Excellent, not perfect, but we can still maybe get something useful stuff here  \n",
    "- expert resident predicts chicken goujons safe\n",
    "- gold predicting secure high\n",
    "- typewriters believe calculators still risky investments\n",
    "- antique long particularly  \n",
    "### ok maybe don't base your investment strategy on what gold is predicting or what typewriters believe. These graphs need some context. Lets take our two datasets and print out a single line summary for each."
   ]
  },
  {
   "cell_type": "code",
   "execution_count": 492,
   "metadata": {},
   "outputs": [
    {
     "name": "stdout",
     "output_type": "stream",
     "text": [
      "the good news is i'm getting {'safe', 'secure'} vibes off {'bet', 'goujons', 'chicken', 'secure'}\n",
      "the bad news is i'm getting {'speculative'} vibes off {'investments', 'typewriters'}\n"
     ]
    }
   ],
   "source": [
    "good = good_df.iloc[0]\n",
    "bad = bad_df.iloc[0]\n",
    "print(\"the good news is i'm getting {} vibes off {}\".format(good[\"adjectives\"], good[\"nouns\"]))\n",
    "print(\"the bad news is i'm getting {} vibes off {}\".format(bad[\"adjectives\"], bad[\"nouns\"]))"
   ]
  },
  {
   "cell_type": "markdown",
   "metadata": {},
   "source": [
    "So you heard it here first. Go buy some chicken goujons and stay away from those typewriters."
   ]
  }
 ],
 "metadata": {
  "kernelspec": {
   "display_name": "Python 3",
   "language": "python",
   "name": "python3"
  },
  "language_info": {
   "codemirror_mode": {
    "name": "ipython",
    "version": 3
   },
   "file_extension": ".py",
   "mimetype": "text/x-python",
   "name": "python",
   "nbconvert_exporter": "python",
   "pygments_lexer": "ipython3",
   "version": "3.7.4"
  }
 },
 "nbformat": 4,
 "nbformat_minor": 2
}
