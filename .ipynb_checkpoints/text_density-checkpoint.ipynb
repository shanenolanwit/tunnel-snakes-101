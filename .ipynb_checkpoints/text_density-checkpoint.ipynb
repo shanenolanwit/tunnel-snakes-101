{
 "cells": [
  {
   "cell_type": "code",
   "execution_count": 373,
   "metadata": {},
   "outputs": [],
   "source": [
    "import numpy as np\n",
    "import pandas as pd\n",
    "import matplotlib.pyplot as plt\n",
    "from nltk.tokenize import word_tokenize\n",
    "from nltk.corpus import stopwords\n",
    "from statistics import mean, median\n",
    "from collections import Counter\n",
    "import itertools"
   ]
  },
  {
   "cell_type": "code",
   "execution_count": 374,
   "metadata": {},
   "outputs": [],
   "source": [
    "dataset = pd.read_csv('data.csv', header=None, usecols=[0,1])\n",
    "dataset.columns = ['utterance', 'intent']"
   ]
  },
  {
   "cell_type": "code",
   "execution_count": 375,
   "metadata": {},
   "outputs": [
    {
     "name": "stdout",
     "output_type": "stream",
     "text": [
      "Dataset row count : 10\n"
     ]
    },
    {
     "data": {
      "text/html": [
       "<div>\n",
       "<style scoped>\n",
       "    .dataframe tbody tr th:only-of-type {\n",
       "        vertical-align: middle;\n",
       "    }\n",
       "\n",
       "    .dataframe tbody tr th {\n",
       "        vertical-align: top;\n",
       "    }\n",
       "\n",
       "    .dataframe thead th {\n",
       "        text-align: right;\n",
       "    }\n",
       "</style>\n",
       "<table border=\"1\" class=\"dataframe\">\n",
       "  <thead>\n",
       "    <tr style=\"text-align: right;\">\n",
       "      <th></th>\n",
       "      <th>utterance</th>\n",
       "      <th>intent</th>\n",
       "    </tr>\n",
       "  </thead>\n",
       "  <tbody>\n",
       "    <tr>\n",
       "      <td>count</td>\n",
       "      <td>10</td>\n",
       "      <td>10</td>\n",
       "    </tr>\n",
       "    <tr>\n",
       "      <td>unique</td>\n",
       "      <td>10</td>\n",
       "      <td>2</td>\n",
       "    </tr>\n",
       "    <tr>\n",
       "      <td>top</td>\n",
       "      <td>yo</td>\n",
       "      <td>coffeeshop</td>\n",
       "    </tr>\n",
       "    <tr>\n",
       "      <td>freq</td>\n",
       "      <td>1</td>\n",
       "      <td>6</td>\n",
       "    </tr>\n",
       "  </tbody>\n",
       "</table>\n",
       "</div>"
      ],
      "text/plain": [
       "       utterance      intent\n",
       "count         10          10\n",
       "unique        10           2\n",
       "top           yo  coffeeshop\n",
       "freq           1           6"
      ]
     },
     "execution_count": 375,
     "metadata": {},
     "output_type": "execute_result"
    }
   ],
   "source": [
    "clean_dataset = dataset.dropna(axis=0, how='any')\n",
    "print(\"Dataset row count : {}\".format(len(clean_dataset)))\n",
    "clean_dataset.describe()"
   ]
  },
  {
   "cell_type": "code",
   "execution_count": 376,
   "metadata": {},
   "outputs": [
    {
     "name": "stdout",
     "output_type": "stream",
     "text": [
      "removing stop words such as ['i', 'me', 'my', 'myself', 'we']\n",
      "Word count reduced from 39 to 24\n"
     ]
    }
   ],
   "source": [
    "s = \" \"\n",
    "complete_vocab = s.join(clean_dataset[\"utterance\"]).split(' ') \n",
    "stop_words = stopwords.words('english')\n",
    "\n",
    "# Show stop words\n",
    "print(\"removing stop words such as {}\".format(stop_words[:5]))\n",
    "\n",
    "clean_vocab = [word for word in complete_vocab if word not in stop_words]\n",
    "print(\"Word count reduced from {} to {}\".format(len(complete_vocab), len(clean_vocab)))\n",
    "counter = Counter(clean_vocab)\n",
    "top_words = counter.most_common(10)\n",
    "\n",
    "word_count = []\n",
    "for top_word in top_words:\n",
    "    word_count.append({\"word\": top_word[0], \n",
    "                     \"count\": top_word[1]\n",
    "                   }) \n",
    "   \n",
    "\n",
    "word_count_df=pd.DataFrame(word_count,columns=['word','count'])\n"
   ]
  },
  {
   "cell_type": "code",
   "execution_count": 377,
   "metadata": {},
   "outputs": [
    {
     "name": "stdout",
     "output_type": "stream",
     "text": [
      "Most frequent word is coffee\n"
     ]
    },
    {
     "data": {
      "image/png": "[encoded data removed]",
      "text/plain": [
       "<Figure size 432x288 with 1 Axes>"
      ]
     },
     "metadata": {
      "needs_background": "light"
     },
     "output_type": "display_data"
    }
   ],
   "source": [
    "print(\"Most frequent word is {}\".format(top_words[0][0]))\n",
    "fig, ax = plt.subplots()\n",
    "word_count_df.sort_values(by=\"count\",ascending=False)['count'].plot.bar();\n",
    "ax.set_xticklabels(word_count_df.sort_values(by=\"count\",ascending=False)['word'])\n",
    "plt.title(\"Most Frequent Words\")\n",
    "plt.ylabel(\"Count\")\n",
    "plt.xlabel(\"Word\")\n",
    "plt.show()"
   ]
  },
  {
   "cell_type": "code",
   "execution_count": 328,
   "metadata": {},
   "outputs": [],
   "source": [
    "grouped_dataset = clean_dataset.groupby(['intent'])"
   ]
  },
  {
   "cell_type": "code",
   "execution_count": 329,
   "metadata": {},
   "outputs": [
    {
     "data": {
      "text/plain": [
       "dict_keys(['coffeeshop', 'greeting'])"
      ]
     },
     "execution_count": 329,
     "metadata": {},
     "output_type": "execute_result"
    }
   ],
   "source": [
    "grouped_dataset.groups.keys()"
   ]
  },
  {
   "cell_type": "code",
   "execution_count": 330,
   "metadata": {},
   "outputs": [
    {
     "data": {
      "text/html": [
       "<div>\n",
       "<style scoped>\n",
       "    .dataframe tbody tr th:only-of-type {\n",
       "        vertical-align: middle;\n",
       "    }\n",
       "\n",
       "    .dataframe tbody tr th {\n",
       "        vertical-align: top;\n",
       "    }\n",
       "\n",
       "    .dataframe thead th {\n",
       "        text-align: right;\n",
       "    }\n",
       "</style>\n",
       "<table border=\"1\" class=\"dataframe\">\n",
       "  <thead>\n",
       "    <tr style=\"text-align: right;\">\n",
       "      <th></th>\n",
       "      <th>utterance</th>\n",
       "    </tr>\n",
       "    <tr>\n",
       "      <th>intent</th>\n",
       "      <th></th>\n",
       "    </tr>\n",
       "  </thead>\n",
       "  <tbody>\n",
       "    <tr>\n",
       "      <td>coffeeshop</td>\n",
       "      <td>6</td>\n",
       "    </tr>\n",
       "    <tr>\n",
       "      <td>greeting</td>\n",
       "      <td>4</td>\n",
       "    </tr>\n",
       "  </tbody>\n",
       "</table>\n",
       "</div>"
      ],
      "text/plain": [
       "            utterance\n",
       "intent               \n",
       "coffeeshop          6\n",
       "greeting            4"
      ]
     },
     "execution_count": 330,
     "metadata": {},
     "output_type": "execute_result"
    }
   ],
   "source": [
    "grouped_dataset.count()"
   ]
  },
  {
   "cell_type": "code",
   "execution_count": 331,
   "metadata": {},
   "outputs": [
    {
     "name": "stdout",
     "output_type": "stream",
     "text": [
      "  intent_name  utterances  max_words_ut  min_words_ut       avg  median\n",
      "0  coffeeshop           6             7             3  4.833333     5.0\n",
      "1    greeting           4             5             1  2.500000     2.0\n",
      "       intent                   top            1           2         3\n",
      "0  coffeeshop  [coffee, large, hot]  (coffee, 4)  (large, 3)  (hot, 2)\n",
      "1    greeting    [hello, world, yo]   (hello, 2)  (world, 1)   (yo, 1)\n"
     ]
    }
   ],
   "source": [
    "\n",
    "\n",
    "\n",
    "word_count = lambda sentence: len(word_tokenize(sentence))\n",
    "top_words_by_intent = []\n",
    "my_list = []\n",
    "\n",
    "for name, group in grouped_dataset:\n",
    "    group_vocab = \" \".join(group[\"utterance\"]).split(\" \")\n",
    "    clean_group_vocab = [word for word in group_vocab if word not in stop_words]\n",
    "    group_counter = Counter(clean_group_vocab)\n",
    "    most_common_in_group = group_counter.most_common(3)\n",
    "    top_words_by_intent.append({\n",
    "        \"intent\": name, \n",
    "        \"top\": list(map(lambda x: x[0], most_common_in_group)),\n",
    "        \"1\": most_common_in_group[0],\n",
    "        \"2\": most_common_in_group[1],\n",
    "        \"3\": most_common_in_group[2]\n",
    "    })\n",
    "    my_list.append({\"intent_name\": name, \n",
    "                     \"utterances\": len(group),\n",
    "                     \"max_words_ut\": len(max(group[\"utterance\"], key=word_count).split(' ')),\n",
    "                    \"min_words_ut\": len(min(group[\"utterance\"], key=word_count).split(' ')),\n",
    "                    \"avg\" : mean(list(map(lambda x: len(x.split(' ')), group[\"utterance\"]))),\n",
    "                    \"median\" : median(list(map(lambda x: len(x.split(' ')), group[\"utterance\"]))),\n",
    "                   }) \n",
    "   \n",
    "\n",
    "dfx=pd.DataFrame(my_list,columns=['intent_name','utterances', 'max_words_ut','min_words_ut', 'avg', 'median'])\n",
    "print(dfx.to_string())\n",
    "dftw=pd.DataFrame(top_words_by_intent,columns=['intent','top','1','2','3'])\n",
    "print(dftw)"
   ]
  },
  {
   "cell_type": "code",
   "execution_count": 370,
   "metadata": {},
   "outputs": [
    {
     "name": "stdout",
     "output_type": "stream",
     "text": [
      "[4, 2]\n",
      "[3, 1]\n",
      "[2, 1]\n"
     ]
    }
   ],
   "source": [
    "col_one_list = dftw['1'].tolist()\n",
    "number_one_labels = list(map(lambda x: x[0], col_one_list))\n",
    "number_ones = list(map(lambda x: x[1], col_one_list))\n",
    "print(number_ones)\n",
    "col_two_list = dftw['2'].tolist()\n",
    "number_two_labels = list(map(lambda x: x[0], col_two_list))\n",
    "number_twos = list(map(lambda x: x[1], col_two_list))\n",
    "print(number_twos)\n",
    "col_three_list = dftw['3'].tolist()\n",
    "number_three_labels = list(map(lambda x: x[0], col_three_list))\n",
    "number_threes = list(map(lambda x: x[1], col_three_list))\n",
    "print(number_threes)\n",
    "top_three_list = [number_ones, number_twos, number_threes]\n",
    "top_three_labels = [number_one_labels, number_two_labels, number_three_labels]\n"
   ]
  },
  {
   "cell_type": "code",
   "execution_count": 371,
   "metadata": {},
   "outputs": [
    {
     "name": "stdout",
     "output_type": "stream",
     "text": [
      "['coffee', 'hello', 'large', 'world', 'hot', 'yo']\n"
     ]
    }
   ],
   "source": [
    "# https://stackoverflow.com/questions/1720421/how-do-i-concatenate-two-lists-in-python\n",
    "labels = list(itertools.chain.from_iterable(top_three_labels))\n",
    "print(labels)"
   ]
  },
  {
   "cell_type": "code",
   "execution_count": 372,
   "metadata": {},
   "outputs": [
    {
     "name": "stdout",
     "output_type": "stream",
     "text": [
      "0\n",
      "[4, 2]\n",
      "1\n",
      "[3, 1]\n",
      "2\n",
      "[2, 1]\n",
      "['coffee', 'hello', 'large', 'world', 'hot', 'yo']\n",
      "coffee\n",
      "hello\n",
      "large\n",
      "world\n",
      "hot\n",
      "yo\n"
     ]
    },
    {
     "data": {
      "image/png": "[encoded data removed]",
      "text/plain": [
       "<Figure size 432x432 with 1 Axes>"
      ]
     },
     "metadata": {
      "needs_background": "light"
     },
     "output_type": "display_data"
    }
   ],
   "source": [
    "categorical_1 = dftw[\"intent\"]\n",
    "numerical = top_three_list\n",
    "\n",
    "number_groups = len(categorical_1)+1\n",
    "bin_width = 1.0/(number_groups+1)\n",
    "fig, ax = plt.subplots(figsize=(6,6))\n",
    "for i in range(number_groups):\n",
    "    print(i)\n",
    "    print(numerical[i])\n",
    "    ax.bar(x=np.arange(len(categorical_1)) + i*bin_width, \n",
    "           height=numerical[i],\n",
    "           width=bin_width,\n",
    "           align='center')\n",
    "ax.set_xticks(np.arange(len(categorical_1)) + number_groups/(2*(number_groups+1)))\n",
    "# number_groups/(2*(number_groups+1)): offset of xticklabel\n",
    "ax.set_xticklabels(categorical_1)\n",
    "\n",
    "rects = ax.patches\n",
    "print(labels)\n",
    "for rect, label in zip(rects, labels):\n",
    "    print(label)\n",
    "    height = rect.get_height()\n",
    "    ax.text(rect.get_x() + rect.get_width() / 2, height, label,\n",
    "            ha='center', va='bottom')\n",
    "    \n",
    "plt.show()"
   ]
  },
  {
   "cell_type": "code",
   "execution_count": null,
   "metadata": {},
   "outputs": [],
   "source": []
  }
 ],
 "metadata": {
  "kernelspec": {
   "display_name": "Python 3",
   "language": "python",
   "name": "python3"
  },
  "language_info": {
   "codemirror_mode": {
    "name": "ipython",
    "version": 3
   },
   "file_extension": ".py",
   "mimetype": "text/x-python",
   "name": "python",
   "nbconvert_exporter": "python",
   "pygments_lexer": "ipython3",
   "version": "3.7.4"
  }
 },
 "nbformat": 4,
 "nbformat_minor": 2
}
