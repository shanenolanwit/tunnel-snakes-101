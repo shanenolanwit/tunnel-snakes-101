{
 "cells": [
  {
   "cell_type": "code",
   "execution_count": 1,
   "metadata": {},
   "outputs": [],
   "source": [
    "import numpy as np\n",
    "import pandas as pd\n",
    "import matplotlib.pyplot as plt\n",
    "from nltk.tokenize import word_tokenize\n",
    "from nltk.corpus import stopwords\n",
    "from statistics import mean, median\n",
    "from collections import Counter\n",
    "import itertools"
   ]
  },
  {
   "cell_type": "code",
   "execution_count": 2,
   "metadata": {},
   "outputs": [
    {
     "name": "stdout",
     "output_type": "stream",
     "text": [
      "loading english stop words such as ['i', 'me', 'my', 'myself', 'we']\n"
     ]
    }
   ],
   "source": [
    "locale = 'english'\n",
    "stop_words = stopwords.words(locale)\n",
    "print(\"loading {} stop words such as {}\".format(locale, stop_words[:5]))\n",
    "dataset = pd.read_csv('data.csv', header=None, usecols=[0,1])\n",
    "dataset.columns = ['utterance', 'intent']"
   ]
  },
  {
   "cell_type": "code",
   "execution_count": 3,
   "metadata": {},
   "outputs": [
    {
     "name": "stdout",
     "output_type": "stream",
     "text": [
      "Dataset row count : 10\n"
     ]
    },
    {
     "data": {
      "text/html": [
       "<div>\n",
       "<style scoped>\n",
       "    .dataframe tbody tr th:only-of-type {\n",
       "        vertical-align: middle;\n",
       "    }\n",
       "\n",
       "    .dataframe tbody tr th {\n",
       "        vertical-align: top;\n",
       "    }\n",
       "\n",
       "    .dataframe thead th {\n",
       "        text-align: right;\n",
       "    }\n",
       "</style>\n",
       "<table border=\"1\" class=\"dataframe\">\n",
       "  <thead>\n",
       "    <tr style=\"text-align: right;\">\n",
       "      <th></th>\n",
       "      <th>utterance</th>\n",
       "      <th>intent</th>\n",
       "    </tr>\n",
       "  </thead>\n",
       "  <tbody>\n",
       "    <tr>\n",
       "      <td>count</td>\n",
       "      <td>10</td>\n",
       "      <td>10</td>\n",
       "    </tr>\n",
       "    <tr>\n",
       "      <td>unique</td>\n",
       "      <td>10</td>\n",
       "      <td>2</td>\n",
       "    </tr>\n",
       "    <tr>\n",
       "      <td>top</td>\n",
       "      <td>yo</td>\n",
       "      <td>coffeeshop</td>\n",
       "    </tr>\n",
       "    <tr>\n",
       "      <td>freq</td>\n",
       "      <td>1</td>\n",
       "      <td>6</td>\n",
       "    </tr>\n",
       "  </tbody>\n",
       "</table>\n",
       "</div>"
      ],
      "text/plain": [
       "       utterance      intent\n",
       "count         10          10\n",
       "unique        10           2\n",
       "top           yo  coffeeshop\n",
       "freq           1           6"
      ]
     },
     "execution_count": 3,
     "metadata": {},
     "output_type": "execute_result"
    }
   ],
   "source": [
    "clean_dataset = dataset.dropna(axis=0, how='any')\n",
    "print(\"Dataset row count : {}\".format(len(clean_dataset)))\n",
    "clean_dataset.describe()"
   ]
  },
  {
   "cell_type": "code",
   "execution_count": 4,
   "metadata": {},
   "outputs": [],
   "source": [
    "def remove_stop_words(vocab):\n",
    "    return [word for word in vocab if word not in stop_words]"
   ]
  },
  {
   "cell_type": "markdown",
   "metadata": {},
   "source": [
    "## Find the most frequent words\n",
    "- join all data from the utterances column\n",
    "- remove the stop words\n",
    "- use the [counter](https://pymotw.com/2/collections/counter.html) module to count the most common occurences\n",
    "- use a list to collect your data, then initialise a DataFrame when you are ready, never use append if you can avoid it\n",
    " - as per the official [dataframes docs](https://pandas.pydata.org/pandas-docs/stable/reference/api/pandas.DataFrame.append.html)\n",
    " - and as per [some guy](https://stackoverflow.com/questions/13784192/creating-an-empty-pandas-dataframe-then-filling-it) on stackoverflow\n"
   ]
  },
  {
   "cell_type": "code",
   "execution_count": 5,
   "metadata": {},
   "outputs": [
    {
     "name": "stdout",
     "output_type": "stream",
     "text": [
      "Word count reduced from 39 to 24\n"
     ]
    }
   ],
   "source": [
    "complete_vocab = \" \".join(clean_dataset[\"utterance\"]).split(' ') \n",
    "\n",
    "clean_vocab = remove_stop_words(complete_vocab)\n",
    "print(\"Word count reduced from {} to {}\".format(len(complete_vocab), len(clean_vocab)))\n",
    "counter = Counter(clean_vocab)\n",
    "top_words = counter.most_common(10)\n",
    "\n",
    "word_count = []\n",
    "for top_word in top_words:\n",
    "    word_count.append({\"word\": top_word[0], \"count\": top_word[1]}) \n",
    "   \n",
    "word_count_df=pd.DataFrame(word_count,columns=['word','count'])\n"
   ]
  },
  {
   "cell_type": "markdown",
   "metadata": {},
   "source": [
    "## Create a barchart showing frequency across all intents"
   ]
  },
  {
   "cell_type": "code",
   "execution_count": 6,
   "metadata": {},
   "outputs": [
    {
     "name": "stdout",
     "output_type": "stream",
     "text": [
      "Most frequent word is coffee\n"
     ]
    },
    {
     "data": {
      "image/png": "[encoded data removed]",
      "text/plain": [
       "<Figure size 432x288 with 1 Axes>"
      ]
     },
     "metadata": {
      "needs_background": "light"
     },
     "output_type": "display_data"
    }
   ],
   "source": [
    "print(\"Most frequent word is {}\".format(top_words[0][0]))\n",
    "fig, ax = plt.subplots()\n",
    "word_count_df.sort_values(by=\"count\",ascending=False)['count'].plot.bar();\n",
    "ax.set_xticklabels(word_count_df.sort_values(by=\"count\",ascending=False)['word'])\n",
    "plt.title(\"Most Frequent Words\")\n",
    "plt.ylabel(\"Count\")\n",
    "plt.xlabel(\"Word\")\n",
    "plt.show()"
   ]
  },
  {
   "cell_type": "markdown",
   "metadata": {},
   "source": [
    "## group the intents and get a count of how many utterances each intent has"
   ]
  },
  {
   "cell_type": "code",
   "execution_count": 10,
   "metadata": {},
   "outputs": [
    {
     "data": {
      "text/html": [
       "<div>\n",
       "<style scoped>\n",
       "    .dataframe tbody tr th:only-of-type {\n",
       "        vertical-align: middle;\n",
       "    }\n",
       "\n",
       "    .dataframe tbody tr th {\n",
       "        vertical-align: top;\n",
       "    }\n",
       "\n",
       "    .dataframe thead th {\n",
       "        text-align: right;\n",
       "    }\n",
       "</style>\n",
       "<table border=\"1\" class=\"dataframe\">\n",
       "  <thead>\n",
       "    <tr style=\"text-align: right;\">\n",
       "      <th></th>\n",
       "      <th>utterance</th>\n",
       "    </tr>\n",
       "    <tr>\n",
       "      <th>intent</th>\n",
       "      <th></th>\n",
       "    </tr>\n",
       "  </thead>\n",
       "  <tbody>\n",
       "    <tr>\n",
       "      <td>coffeeshop</td>\n",
       "      <td>6</td>\n",
       "    </tr>\n",
       "    <tr>\n",
       "      <td>greeting</td>\n",
       "      <td>4</td>\n",
       "    </tr>\n",
       "  </tbody>\n",
       "</table>\n",
       "</div>"
      ],
      "text/plain": [
       "            utterance\n",
       "intent               \n",
       "coffeeshop          6\n",
       "greeting            4"
      ]
     },
     "execution_count": 10,
     "metadata": {},
     "output_type": "execute_result"
    }
   ],
   "source": [
    "grouped_dataset = clean_dataset.groupby(['intent'])\n",
    "grouped_dataset.groups.keys()\n",
    "grouped_dataset.count()"
   ]
  },
  {
   "cell_type": "markdown",
   "metadata": {},
   "source": [
    "## display the distribution of utterances across intents as a pie chart"
   ]
  },
  {
   "cell_type": "code",
   "execution_count": 11,
   "metadata": {},
   "outputs": [
    {
     "data": {
      "image/png": "[encoded data removed]",
      "text/plain": [
       "<Figure size 432x288 with 1 Axes>"
      ]
     },
     "metadata": {},
     "output_type": "display_data"
    }
   ],
   "source": [
    "fig1, ax1 = plt.subplots()\n",
    "labels = grouped_dataset.groups.keys()\n",
    "sizes = grouped_dataset.count()[\"utterance\"]\n",
    "ax1.pie(sizes, labels=labels, autopct='%1.1f%%',\n",
    "        shadow=True, startangle=90)\n",
    "ax1.axis('equal')  # Equal aspect ratio ensures that pie is drawn as a circle.\n",
    "plt.show()"
   ]
  },
  {
   "cell_type": "markdown",
   "metadata": {},
   "source": [
    "## Generate some statistics about each intent\n",
    "- iterate the intents\n",
    "- create a list of all the words associated with each intent (removing stop words)\n",
    "- produce a new dataframe displaying details about each intent\n",
    " - intent name\n",
    " - number of utterances associated with the intent\n",
    " - number of words in longest utterance associated with the intent\n",
    " - number of words in shortest utterance associated with the intent\n",
    " - average number of words per utterance associated with the intent\n",
    " - median number of words per utterances associated with the intent"
   ]
  },
  {
   "cell_type": "code",
   "execution_count": 13,
   "metadata": {},
   "outputs": [
    {
     "name": "stdout",
     "output_type": "stream",
     "text": [
      "  intent_name  utterances  max_words_ut  min_words_ut       avg  median\n",
      "0  coffeeshop           6             7             3  4.833333     5.0\n",
      "1    greeting           4             5             1  2.500000     2.0\n"
     ]
    }
   ],
   "source": [
    "word_count = lambda sentence: len(word_tokenize(sentence))\n",
    "top_words_by_intent = []\n",
    "my_list = []\n",
    "\n",
    "for name, group in grouped_dataset:\n",
    "    # create a single vocab from all the utterances associated with this intent\n",
    "    group_vocab = \" \".join(group[\"utterance\"]).split(\" \")\n",
    "    clean_group_vocab = remove_stop_words(group_vocab)\n",
    "    group_counter = Counter(clean_group_vocab)\n",
    "    # get the top 3 most frequent words associated with this intent\n",
    "    most_common_in_group = group_counter.most_common(3)\n",
    "    # this will make creating a graphical representation much easier later\n",
    "    top_words_by_intent.append({\n",
    "        \"intent\": name, \n",
    "        \"top\": list(map(lambda x: x[0], most_common_in_group)),\n",
    "        \"1\": most_common_in_group[0],\n",
    "        \"2\": most_common_in_group[1],\n",
    "        \"3\": most_common_in_group[2]\n",
    "    })\n",
    "    my_list.append({\"intent_name\": name, \n",
    "                    \"utterances\": len(group),\n",
    "                    \"max_words_ut\": len(max(group[\"utterance\"], key=word_count).split(' ')),\n",
    "                    \"min_words_ut\": len(min(group[\"utterance\"], key=word_count).split(' ')),\n",
    "                    \"avg\" : mean(list(map(lambda x: len(x.split(' ')), group[\"utterance\"]))),\n",
    "                    \"median\" : median(list(map(lambda x: len(x.split(' ')), group[\"utterance\"]))),\n",
    "                   }) \n",
    "   \n",
    "\n",
    "dfx=pd.DataFrame(my_list,columns=['intent_name','utterances', 'max_words_ut','min_words_ut', 'avg', 'median'])\n",
    "print(dfx.to_string())"
   ]
  },
  {
   "cell_type": "markdown",
   "metadata": {},
   "source": [
    "## lets look at each intents top 3 words and their frequency"
   ]
  },
  {
   "cell_type": "code",
   "execution_count": 14,
   "metadata": {},
   "outputs": [
    {
     "name": "stdout",
     "output_type": "stream",
     "text": [
      "       intent                   top            1           2         3\n",
      "0  coffeeshop  [coffee, large, hot]  (coffee, 4)  (large, 3)  (hot, 2)\n",
      "1    greeting    [hello, world, yo]   (hello, 2)  (world, 1)   (yo, 1)\n"
     ]
    }
   ],
   "source": [
    "dftw=pd.DataFrame(top_words_by_intent,columns=['intent','top','1','2','3'])\n",
    "print(dftw)"
   ]
  },
  {
   "cell_type": "markdown",
   "metadata": {},
   "source": [
    "## format our data to be charted\n",
    "because of the weird way matplotlib does [grouped bar chart](https://matplotlib.org/3.1.1/gallery/units/bar_unit_demo.html) we need to format our data a little differently, we need to have the first bar of each group together, the second bar of each group together and so forth.\n",
    "\n",
    "the code also uses the itertools chain to concat the lists of labels, see [this](https://stackoverflow.com/questions/1720421/how-do-i-concatenate-two-lists-in-python) stackoverflow post for why this is the most efficient way to concat lists"
   ]
  },
  {
   "cell_type": "code",
   "execution_count": 50,
   "metadata": {},
   "outputs": [
    {
     "name": "stdout",
     "output_type": "stream",
     "text": [
      "[[4, 2], [3, 1], [2, 1]]\n",
      "['coffee', 'hello', 'large', 'world', 'hot', 'yo']\n"
     ]
    }
   ],
   "source": [
    "def generate_labels_and_counts(data):\n",
    "    labels = list(map(lambda x: x[0], data))\n",
    "    counts = list(map(lambda x: x[1], data))\n",
    "    return { \"labels\": labels, \"counts\": counts }\n",
    "\n",
    "data = generate_labels_and_counts(dftw['1'].tolist())\n",
    "number_one_labels = data[\"labels\"]\n",
    "number_ones = data[\"counts\"]\n",
    "\n",
    "data = generate_labels_and_counts(dftw['2'].tolist())\n",
    "number_two_labels = data[\"labels\"]\n",
    "number_twos = data[\"counts\"]\n",
    "\n",
    "data = generate_labels_and_counts(dftw['3'].tolist())\n",
    "number_three_labels = data[\"labels\"]\n",
    "number_threes = data[\"counts\"]\n",
    "\n",
    "top_three_list = [number_ones, number_twos, number_threes]\n",
    "top_three_labels = [number_one_labels, number_two_labels, number_three_labels]\n",
    "# https://stackoverflow.com/questions/1720421/how-do-i-concatenate-two-lists-in-python\n",
    "labels = list(itertools.chain.from_iterable(top_three_labels))\n",
    "\n",
    "# formatted data for our grouped bar charts\n",
    "print(top_three_list)\n",
    "print(labels)"
   ]
  },
  {
   "cell_type": "markdown",
   "metadata": {},
   "source": [
    "## lets finally graph the most frequent words per intent"
   ]
  },
  {
   "cell_type": "code",
   "execution_count": 57,
   "metadata": {},
   "outputs": [
    {
     "data": {
      "image/png": "[encoded data removed]",
      "text/plain": [
       "<Figure size 432x432 with 1 Axes>"
      ]
     },
     "metadata": {
      "needs_background": "light"
     },
     "output_type": "display_data"
    }
   ],
   "source": [
    "intents = dftw[\"intent\"]\n",
    "\n",
    "number_groups = len(intents)+1\n",
    "bin_width = 1.0/(number_groups+1)\n",
    "fig, ax = plt.subplots(figsize=(6,6))\n",
    "for i in range(number_groups):\n",
    "    ax.bar(x=np.arange(len(intents)) + i*bin_width, \n",
    "           height=top_three_list[i],\n",
    "           width=bin_width,\n",
    "           align='center')\n",
    "ax.set_xticks(np.arange(len(categorical_1)) + number_groups/(2*(number_groups+1)))\n",
    "ax.set_xticklabels(intents)\n",
    "\n",
    "rects = ax.patches\n",
    "\n",
    "for rect, label in zip(rects, labels):\n",
    "    height = rect.get_height()\n",
    "    ax.text(rect.get_x() + rect.get_width() / 2, height, label,\n",
    "            ha='center', va='bottom')\n",
    "    \n",
    "plt.title(\"Most Frequent Words x Intent\")\n",
    "plt.ylabel(\"Count\")\n",
    "plt.xlabel(\"Word x Intent\")\n",
    "plt.show()"
   ]
  },
  {
   "cell_type": "code",
   "execution_count": null,
   "metadata": {},
   "outputs": [],
   "source": []
  }
 ],
 "metadata": {
  "kernelspec": {
   "display_name": "Python 3",
   "language": "python",
   "name": "python3"
  },
  "language_info": {
   "codemirror_mode": {
    "name": "ipython",
    "version": 3
   },
   "file_extension": ".py",
   "mimetype": "text/x-python",
   "name": "python",
   "nbconvert_exporter": "python",
   "pygments_lexer": "ipython3",
   "version": "3.7.4"
  }
 },
 "nbformat": 4,
 "nbformat_minor": 2
}
